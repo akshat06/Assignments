{
 "cells": [
  {
   "cell_type": "markdown",
   "metadata": {},
   "source": [
    "### 1. Write a program which accepts a sequence of comma-separated numbers from console  and generate a list. \n"
   ]
  },
  {
   "cell_type": "code",
   "execution_count": 7,
   "metadata": {},
   "outputs": [
    {
     "name": "stdout",
     "output_type": "stream",
     "text": [
      "Enter the numbers in a comma seperated sequence1,2,3,4\n",
      "['1', '2', '3', '4']\n"
     ]
    }
   ],
   "source": [
    "user_input=input(\"Enter the numbers in a comma seperated sequence\")\n",
    "print((user_input.split(\",\")))"
   ]
  },
  {
   "cell_type": "markdown",
   "metadata": {},
   "source": [
    "### 1. Create the below pattern using nested for loop in Python. \n",
    "#### * \n",
    "#### * * \n",
    "#### * * * \n",
    "#### * * * * \n",
    "#### * * * * * \n",
    "#### * * * * \n",
    "#### * * * \n",
    "#### * * \n",
    "#### * \n"
   ]
  },
  {
   "cell_type": "code",
   "execution_count": 16,
   "metadata": {},
   "outputs": [
    {
     "name": "stdout",
     "output_type": "stream",
     "text": [
      "*\n",
      "**\n",
      "***\n",
      "****\n",
      "*****\n",
      "****\n",
      "***\n",
      "**\n",
      "*\n",
      "\n"
     ]
    }
   ],
   "source": [
    "for i in range(1,11):\n",
    "    if i<6:\n",
    "        print(i*\"*\",end=\"\\n\")\n",
    "    elif i>=6:\n",
    "        print((10-i)*\"*\",end=\"\\n\")"
   ]
  },
  {
   "cell_type": "markdown",
   "metadata": {},
   "source": [
    "### 2. Write a Python program to reverse a word after accepting the input from the user. "
   ]
  },
  {
   "cell_type": "code",
   "execution_count": 17,
   "metadata": {},
   "outputs": [
    {
     "name": "stdout",
     "output_type": "stream",
     "text": [
      "Enter the word to be reversed: akshat\n",
      "tahska\n"
     ]
    }
   ],
   "source": [
    "user_input=input(\"Enter the word to be reversed: \")\n",
    "print(user_input[::-1])"
   ]
  },
  {
   "cell_type": "code",
   "execution_count": null,
   "metadata": {},
   "outputs": [],
   "source": []
  }
 ],
 "metadata": {
  "kernelspec": {
   "display_name": "Python 3",
   "language": "python",
   "name": "python3"
  },
  "language_info": {
   "codemirror_mode": {
    "name": "ipython",
    "version": 3
   },
   "file_extension": ".py",
   "mimetype": "text/x-python",
   "name": "python",
   "nbconvert_exporter": "python",
   "pygments_lexer": "ipython3",
   "version": "3.8.5"
  }
 },
 "nbformat": 4,
 "nbformat_minor": 4
}
